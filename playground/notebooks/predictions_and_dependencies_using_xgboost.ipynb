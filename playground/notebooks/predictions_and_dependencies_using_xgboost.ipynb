{
 "cells": [
  {
   "cell_type": "markdown",
   "metadata": {},
   "source": [
    "# Using XGBoost to infer links between telemetry\n",
    "\n",
    "XGBoost stands for eXtreme Gradient BOOSTing.\n",
    "It is an optimized parallel tree boosting method (GBDT Gradient Boosting Decision Tree). XGBoost creates an ensemble of decision trees, similar to random forest. XGBoost does it in a slightly different way, boosting; it is based on weak learners that have high bias (HB) and low variance (LV), boosting reduces inference errors by reducing the bias to get low bias (LB) and by the same occasion lower variance even more.\n",
    "Alike Random forest which uses fully grown decision tree with low bias and high variance, before ensembling to mainly reduce the variance.\n",
    "\n",
    "XGBoost -> Ensemble(HB, LV) = (LB, LV)\n",
    "Random Forest -> Ensemble(LB, HV) = (LB, LV)\n",
    "\n",
    "XGBoost model evolution is less random than Random Forest as it uses knowledge from not-fully-grown decision trees to build new ones. It is also faster as it does not grow trees completely. "
   ]
  },
  {
   "cell_type": "markdown",
   "metadata": {
    "ExecuteTime": {
     "end_time": "2018-11-13T22:43:01.606719Z",
     "start_time": "2018-11-13T22:43:01.599836Z"
    }
   },
   "source": [
    "## Starting with importation of xgboost and useful libraries"
   ]
  },
  {
   "cell_type": "code",
   "execution_count": 1,
   "metadata": {
    "ExecuteTime": {
     "end_time": "2019-02-17T09:13:08.316356Z",
     "start_time": "2019-02-17T09:13:06.295019Z"
    }
   },
   "outputs": [],
   "source": [
    "import xgboost as xgb\n",
    "\n",
    "# For the kung fu of data manipulation\n",
    "import pandas as pd\n",
    "\n",
    "# Useful function to split a data set for train/test sets\n",
    "from sklearn.model_selection import train_test_split\n",
    "\n",
    "# this following like is a called a \"magic\": it tells the notebook to display figures inline\n",
    "%matplotlib inline"
   ]
  },
  {
   "cell_type": "markdown",
   "metadata": {},
   "source": [
    "XGBoost parametrization is the tricky part. We could search what are the best parameters since we have data we can train on and test. But the following parameters will do fine for what we want; an estimation of dependencies, and not an exact prediction.\n",
    "\n",
    "Your prediction errors can be reduced by changing these parameters but, usually, the importance/impact order of predictors (telemetry parameters used to predict one of them) does not change significantly.\n",
    "\n",
    "More info on parameters here: https://xgboost.readthedocs.io/en/latest/parameter.html"
   ]
  },
  {
   "cell_type": "code",
   "execution_count": 2,
   "metadata": {
    "ExecuteTime": {
     "end_time": "2019-02-17T09:13:11.150878Z",
     "start_time": "2019-02-17T09:13:11.145243Z"
    }
   },
   "outputs": [],
   "source": [
    "params = {\n",
    "    'learning_rate': 0.1,   # epsilon on slides\n",
    "    'gamma': 0,             # minimum loss reduction to make a split \n",
    "    'max_depth': 10,        # maximum depth of the tree\n",
    "    'n_estimators': 50,     # number of boosted trees to fit\n",
    "    \n",
    "    'base_score': 0.5,      # the initial prediction score of all instances, global bias.\n",
    "    'colsample_bylevel': 1, # subsample ratio of columns for each split, in each level\n",
    "    'colsample_bytree': 1,  # subsample ratio of columns when constructing each tree.\n",
    "    'max_delta_step': 0,    # maximum delta step we allow each tree's weight estimation to be    \n",
    "    'min_child_weight': 1,  # minimum sum of instance weight(hessian) needed in a child.\n",
    "    'missing': None,        # how to represent missing value, defaults to np.nan\n",
    "    'nthread': -1,          # number of parallel threads to run xgboost\n",
    "    'objective': \"reg:linear\", # or 'binary:logistic'  or \n",
    "    'reg_alpha': 0,         # L1 regularization term on weights\n",
    "    'reg_lambda': 1,        # L2 regularization term on weights\n",
    "    'scale_pos_weight': 1,  # balance of positive and negative weights\n",
    "    'seed': 0,              # randomness\n",
    "    'verbosity': 1,         # formerly \"silent\", here 1 stands for only warnings\n",
    "    'subsample': 1,         # subsample ratio of the training instance.\n",
    "    \n",
    "    # I do not really have a GPU on my laptop so I'll wait warming my hands with the CPU :)\n",
    "    'predictor': \"cpu_predictor\", # or 'gpu_predictor'\n",
    "    'tree_method': \"auto\"         # or \"approx\" or \"(gpu_)hist\" or \"(gpu_)exact\"\n",
    "}"
   ]
  },
  {
   "cell_type": "markdown",
   "metadata": {
    "ExecuteTime": {
     "end_time": "2018-11-13T23:17:20.328855Z",
     "start_time": "2018-11-13T23:17:20.322002Z"
    }
   },
   "source": [
    "## Creating model object to be trained\n",
    "\n",
    "    We use function *XGBClassifier* that returns a scikit-learn designed model.\n",
    "    This permits to use pandas dataframe with it and standard scikit-learn interfaces .fit() .predict() .score()"
   ]
  },
  {
   "cell_type": "code",
   "execution_count": 3,
   "metadata": {
    "ExecuteTime": {
     "end_time": "2019-02-17T09:13:14.458851Z",
     "start_time": "2019-02-17T09:13:14.456256Z"
    }
   },
   "outputs": [],
   "source": [
    "# scikit-learn is needed for this form of model\n",
    "model = xgb.XGBClassifier(**params)"
   ]
  },
  {
   "cell_type": "markdown",
   "metadata": {},
   "source": [
    "## Getting data and splitting into train and test sets\n",
    "\n",
    "    We are using the telemetry for Mars Express, available as Open Data (CC).\n",
    "    It represents 33 telemetry parameters (Ampers) from its thermal subsystem, eache prefixed \"NPWD*\"."
   ]
  },
  {
   "cell_type": "code",
   "execution_count": 4,
   "metadata": {
    "ExecuteTime": {
     "end_time": "2019-02-17T09:13:30.216250Z",
     "start_time": "2019-02-17T09:13:24.838180Z"
    }
   },
   "outputs": [],
   "source": [
    "# Pandas can read compressed files directly. It detects the format, option: compression=\"infer\"\n",
    "# First column at index 0 is the data index\n",
    "data = pd.read_csv(\"../data/mars-express-thermal-power--2014-01-01_2015-01-01.csv.gz\", index_col=[0])"
   ]
  },
  {
   "cell_type": "code",
   "execution_count": 9,
   "metadata": {
    "ExecuteTime": {
     "end_time": "2019-02-17T09:14:01.687663Z",
     "start_time": "2019-02-17T09:14:01.683727Z"
    }
   },
   "outputs": [
    {
     "data": {
      "text/plain": [
       "(980322, 33)"
      ]
     },
     "execution_count": 9,
     "metadata": {},
     "output_type": "execute_result"
    }
   ],
   "source": [
    "data.shape"
   ]
  },
  {
   "cell_type": "code",
   "execution_count": 6,
   "metadata": {
    "ExecuteTime": {
     "end_time": "2019-02-17T09:13:30.283499Z",
     "start_time": "2019-02-17T09:13:30.243897Z"
    }
   },
   "outputs": [],
   "source": [
    "# Transforming the index into human readable datetimestamp.\n",
    "# unit=\"ms\", means the datetimes are extracted from Unix timestamps that are in milliseconds\n",
    "data.index = pd.to_datetime(data.index, unit='ms')"
   ]
  },
  {
   "cell_type": "code",
   "execution_count": 7,
   "metadata": {
    "ExecuteTime": {
     "end_time": "2019-02-17T09:13:34.415348Z",
     "start_time": "2019-02-17T09:13:34.392562Z"
    }
   },
   "outputs": [
    {
     "data": {
      "text/html": [
       "<div>\n",
       "<style scoped>\n",
       "    .dataframe tbody tr th:only-of-type {\n",
       "        vertical-align: middle;\n",
       "    }\n",
       "\n",
       "    .dataframe tbody tr th {\n",
       "        vertical-align: top;\n",
       "    }\n",
       "\n",
       "    .dataframe thead th {\n",
       "        text-align: right;\n",
       "    }\n",
       "</style>\n",
       "<table border=\"1\" class=\"dataframe\">\n",
       "  <thead>\n",
       "    <tr style=\"text-align: right;\">\n",
       "      <th></th>\n",
       "      <th>NPWD2372</th>\n",
       "      <th>NPWD2401</th>\n",
       "      <th>NPWD2402</th>\n",
       "      <th>NPWD2451</th>\n",
       "      <th>NPWD2471</th>\n",
       "      <th>NPWD2472</th>\n",
       "      <th>NPWD2481</th>\n",
       "      <th>NPWD2482</th>\n",
       "      <th>NPWD2491</th>\n",
       "      <th>NPWD2501</th>\n",
       "      <th>...</th>\n",
       "      <th>NPWD2792</th>\n",
       "      <th>NPWD2801</th>\n",
       "      <th>NPWD2802</th>\n",
       "      <th>NPWD2821</th>\n",
       "      <th>NPWD2851</th>\n",
       "      <th>NPWD2852</th>\n",
       "      <th>NPWD2871</th>\n",
       "      <th>NPWD2872</th>\n",
       "      <th>NPWD2881</th>\n",
       "      <th>NPWD2882</th>\n",
       "    </tr>\n",
       "    <tr>\n",
       "      <th>ut_ms</th>\n",
       "      <th></th>\n",
       "      <th></th>\n",
       "      <th></th>\n",
       "      <th></th>\n",
       "      <th></th>\n",
       "      <th></th>\n",
       "      <th></th>\n",
       "      <th></th>\n",
       "      <th></th>\n",
       "      <th></th>\n",
       "      <th></th>\n",
       "      <th></th>\n",
       "      <th></th>\n",
       "      <th></th>\n",
       "      <th></th>\n",
       "      <th></th>\n",
       "      <th></th>\n",
       "      <th></th>\n",
       "      <th></th>\n",
       "      <th></th>\n",
       "      <th></th>\n",
       "    </tr>\n",
       "  </thead>\n",
       "  <tbody>\n",
       "    <tr>\n",
       "      <th>2014-01-01 00:00:10.697</th>\n",
       "      <td>0.001457</td>\n",
       "      <td>0.001474</td>\n",
       "      <td>0.177440</td>\n",
       "      <td>0.005015</td>\n",
       "      <td>0.000714</td>\n",
       "      <td>0.006247</td>\n",
       "      <td>0.000554</td>\n",
       "      <td>0.001827</td>\n",
       "      <td>0.424989</td>\n",
       "      <td>0.005028</td>\n",
       "      <td>...</td>\n",
       "      <td>0.000996</td>\n",
       "      <td>0.001474</td>\n",
       "      <td>0.002123</td>\n",
       "      <td>0.005547</td>\n",
       "      <td>0.069760</td>\n",
       "      <td>0.000602</td>\n",
       "      <td>0.000598</td>\n",
       "      <td>0.000714</td>\n",
       "      <td>0.006457</td>\n",
       "      <td>0.003227</td>\n",
       "    </tr>\n",
       "    <tr>\n",
       "      <th>2014-01-01 00:00:42.708</th>\n",
       "      <td>0.001821</td>\n",
       "      <td>0.001474</td>\n",
       "      <td>0.177440</td>\n",
       "      <td>0.006019</td>\n",
       "      <td>0.000714</td>\n",
       "      <td>0.001001</td>\n",
       "      <td>0.000554</td>\n",
       "      <td>0.001827</td>\n",
       "      <td>0.430256</td>\n",
       "      <td>0.005028</td>\n",
       "      <td>...</td>\n",
       "      <td>0.000996</td>\n",
       "      <td>0.001474</td>\n",
       "      <td>0.002123</td>\n",
       "      <td>0.005547</td>\n",
       "      <td>0.647788</td>\n",
       "      <td>0.000602</td>\n",
       "      <td>0.000499</td>\n",
       "      <td>0.000714</td>\n",
       "      <td>0.007748</td>\n",
       "      <td>0.003227</td>\n",
       "    </tr>\n",
       "    <tr>\n",
       "      <th>2014-01-01 00:01:14.708</th>\n",
       "      <td>0.001821</td>\n",
       "      <td>0.001474</td>\n",
       "      <td>0.172173</td>\n",
       "      <td>0.006019</td>\n",
       "      <td>0.000714</td>\n",
       "      <td>0.001001</td>\n",
       "      <td>0.000554</td>\n",
       "      <td>0.001827</td>\n",
       "      <td>0.430256</td>\n",
       "      <td>0.005028</td>\n",
       "      <td>...</td>\n",
       "      <td>0.000996</td>\n",
       "      <td>0.001474</td>\n",
       "      <td>0.002389</td>\n",
       "      <td>0.005547</td>\n",
       "      <td>0.647788</td>\n",
       "      <td>0.000501</td>\n",
       "      <td>0.000499</td>\n",
       "      <td>0.000714</td>\n",
       "      <td>0.007748</td>\n",
       "      <td>0.003227</td>\n",
       "    </tr>\n",
       "  </tbody>\n",
       "</table>\n",
       "<p>3 rows × 33 columns</p>\n",
       "</div>"
      ],
      "text/plain": [
       "                         NPWD2372  NPWD2401  NPWD2402  NPWD2451  NPWD2471  \\\n",
       "ut_ms                                                                       \n",
       "2014-01-01 00:00:10.697  0.001457  0.001474  0.177440  0.005015  0.000714   \n",
       "2014-01-01 00:00:42.708  0.001821  0.001474  0.177440  0.006019  0.000714   \n",
       "2014-01-01 00:01:14.708  0.001821  0.001474  0.172173  0.006019  0.000714   \n",
       "\n",
       "                         NPWD2472  NPWD2481  NPWD2482  NPWD2491  NPWD2501  \\\n",
       "ut_ms                                                                       \n",
       "2014-01-01 00:00:10.697  0.006247  0.000554  0.001827  0.424989  0.005028   \n",
       "2014-01-01 00:00:42.708  0.001001  0.000554  0.001827  0.430256  0.005028   \n",
       "2014-01-01 00:01:14.708  0.001001  0.000554  0.001827  0.430256  0.005028   \n",
       "\n",
       "                           ...     NPWD2792  NPWD2801  NPWD2802  NPWD2821  \\\n",
       "ut_ms                      ...                                              \n",
       "2014-01-01 00:00:10.697    ...     0.000996  0.001474  0.002123  0.005547   \n",
       "2014-01-01 00:00:42.708    ...     0.000996  0.001474  0.002123  0.005547   \n",
       "2014-01-01 00:01:14.708    ...     0.000996  0.001474  0.002389  0.005547   \n",
       "\n",
       "                         NPWD2851  NPWD2852  NPWD2871  NPWD2872  NPWD2881  \\\n",
       "ut_ms                                                                       \n",
       "2014-01-01 00:00:10.697  0.069760  0.000602  0.000598  0.000714  0.006457   \n",
       "2014-01-01 00:00:42.708  0.647788  0.000602  0.000499  0.000714  0.007748   \n",
       "2014-01-01 00:01:14.708  0.647788  0.000501  0.000499  0.000714  0.007748   \n",
       "\n",
       "                         NPWD2882  \n",
       "ut_ms                              \n",
       "2014-01-01 00:00:10.697  0.003227  \n",
       "2014-01-01 00:00:42.708  0.003227  \n",
       "2014-01-01 00:01:14.708  0.003227  \n",
       "\n",
       "[3 rows x 33 columns]"
      ]
     },
     "execution_count": 7,
     "metadata": {},
     "output_type": "execute_result"
    }
   ],
   "source": [
    "data.head(3)"
   ]
  },
  {
   "cell_type": "markdown",
   "metadata": {
    "ExecuteTime": {
     "end_time": "2018-12-02T17:18:24.890507Z",
     "start_time": "2018-12-02T17:18:24.888147Z"
    }
   },
   "source": [
    "## Training the XGBoost model with Mars Express Telemetry to predict NPWD2551"
   ]
  },
  {
   "cell_type": "code",
   "execution_count": 8,
   "metadata": {
    "ExecuteTime": {
     "end_time": "2019-02-17T09:13:41.589995Z",
     "start_time": "2019-02-17T09:13:38.765366Z"
    }
   },
   "outputs": [
    {
     "data": {
      "text/plain": [
       "<matplotlib.axes._subplots.AxesSubplot at 0x7f701f660e10>"
      ]
     },
     "execution_count": 8,
     "metadata": {},
     "output_type": "execute_result"
    },
    {
     "data": {
      "image/png": "[encoded data removed]",
      "text/plain": [
       "<Figure size 1296x720 with 1 Axes>"
      ]
     },
     "metadata": {
      "needs_background": "light"
     },
     "output_type": "display_data"
    }
   ],
   "source": [
    "data.NPWD2551.plot(figsize=(18,10))"
   ]
  },
  {
   "cell_type": "markdown",
   "metadata": {},
   "source": [
    "### Separating the target parameter we want to predict - here NPWD2551"
   ]
  },
  {
   "cell_type": "code",
   "execution_count": 10,
   "metadata": {
    "ExecuteTime": {
     "end_time": "2019-02-17T09:14:10.219508Z",
     "start_time": "2019-02-17T09:14:10.100092Z"
    }
   },
   "outputs": [],
   "source": [
    "# X represents all the features/predictors used to predict NPWD2551\n",
    "X = data.drop(\"NPWD2551\", axis=1)\n",
    "Y = data.NPWD2551"
   ]
  },
  {
   "cell_type": "markdown",
   "metadata": {
    "ExecuteTime": {
     "end_time": "2018-12-02T17:49:44.387213Z",
     "start_time": "2018-12-02T17:49:44.378008Z"
    }
   },
   "source": [
    "### Splitting the dataset into a train set \n",
    "    Train set: used to fit the model\n",
    "    Test set: not used for training, on which we can test the model\n",
    "    \n",
    "    Here we use one third of the data set (0.33) as test"
   ]
  },
  {
   "cell_type": "code",
   "execution_count": 11,
   "metadata": {
    "ExecuteTime": {
     "end_time": "2019-02-17T09:14:17.931314Z",
     "start_time": "2019-02-17T09:14:17.490603Z"
    }
   },
   "outputs": [],
   "source": [
    "X_train, x_test, Y_train, y_test = train_test_split(X, Y, test_size=0.33)"
   ]
  },
  {
   "cell_type": "markdown",
   "metadata": {},
   "source": [
    "### Fitting the model"
   ]
  },
  {
   "cell_type": "code",
   "execution_count": null,
   "metadata": {
    "ExecuteTime": {
     "end_time": "2019-02-17T09:24:32.126449Z",
     "start_time": "2019-02-17T09:14:22.621288Z"
    }
   },
   "outputs": [],
   "source": [
    "model.fit(X_train, Y_train)"
   ]
  },
  {
   "cell_type": "code",
   "execution_count": 27,
   "metadata": {
    "ExecuteTime": {
     "end_time": "2018-12-02T18:22:22.864145Z",
     "start_time": "2018-12-02T18:22:22.860444Z"
    }
   },
   "outputs": [
    {
     "data": {
      "text/plain": [
       "(656815, 32)"
      ]
     },
     "execution_count": 27,
     "metadata": {},
     "output_type": "execute_result"
    }
   ],
   "source": [
    "# It took about 21minutes, 50 trees and about 6GB of RAM to fit the model.\n",
    "X_train.shape"
   ]
  },
  {
   "cell_type": "markdown",
   "metadata": {
    "ExecuteTime": {
     "end_time": "2018-12-02T21:45:25.157302Z",
     "start_time": "2018-12-02T21:45:25.153458Z"
    }
   },
   "source": [
    "### Using the trained model to make a prediction on the test set"
   ]
  },
  {
   "cell_type": "code",
   "execution_count": 29,
   "metadata": {
    "ExecuteTime": {
     "end_time": "2018-12-02T21:46:29.246093Z",
     "start_time": "2018-12-02T21:46:04.745413Z"
    }
   },
   "outputs": [],
   "source": [
    "from sklearn.metrics import mean_squared_error\n",
    "y_test_prediction = model.predict(x_test)"
   ]
  },
  {
   "cell_type": "code",
   "execution_count": 30,
   "metadata": {
    "ExecuteTime": {
     "end_time": "2018-12-02T21:47:08.200627Z",
     "start_time": "2018-12-02T21:47:08.185103Z"
    }
   },
   "outputs": [
    {
     "name": "stdout",
     "output_type": "stream",
     "text": [
      "0.6285218427025027\n"
     ]
    }
   ],
   "source": [
    "err = mean_squared_error(y_test, y_test_prediction)\n",
    "print(err)"
   ]
  },
  {
   "cell_type": "markdown",
   "metadata": {},
   "source": [
    "### Having a look at the other interesting outcome of the model: features importances\n",
    "\n",
    "    Each of the 32 columns used to predict column NPWD2551 did server to branch in the different trees.\n",
    "    Each of them were used at different branching intersection and how much they reduced the variance\n",
    "    in the two resulting branches gives their importance. Importance of how much they affects the target variable,\n",
    "    here: NPWD2551"
   ]
  },
  {
   "cell_type": "code",
   "execution_count": 33,
   "metadata": {
    "ExecuteTime": {
     "end_time": "2018-12-02T22:13:11.569057Z",
     "start_time": "2018-12-02T22:13:09.945530Z"
    }
   },
   "outputs": [
    {
     "name": "stdout",
     "output_type": "stream",
     "text": [
      "NPWD2821: 0.09328124672174454\n",
      "NPWD2532: 0.06986314803361893\n",
      "NPWD2692: 0.05984467640519142\n",
      "NPWD2801: 0.05914093554019928\n",
      "NPWD2451: 0.053266316652297974\n",
      "NPWD2771: 0.05198029428720474\n",
      "NPWD2552: 0.05093182995915413\n",
      "NPWD2372: 0.046125322580337524\n",
      "NPWD2561: 0.0410098135471344\n",
      "NPWD2491: 0.03835560753941536\n",
      "NPWD2742: 0.03720354661345482\n",
      "NPWD2872: 0.028689008206129074\n",
      "NPWD2721: 0.02656528539955616\n",
      "NPWD2551: 0.02587047591805458\n",
      "NPWD2722: 0.024025391787290573\n",
      "NPWD2791: 0.02310374192893505\n",
      "NPWD2481: 0.021001454442739487\n",
      "NPWD2472: 0.02016732655465603\n",
      "NPWD2471: 0.0185258612036705\n",
      "NPWD2531: 0.018125765025615692\n",
      "NPWD2401: 0.018056105822324753\n",
      "NPWD2402: 0.0180203840136528\n",
      "NPWD2482: 0.017016571015119553\n",
      "NPWD2501: 0.016823668032884598\n",
      "NPWD2851: 0.016634337604045868\n",
      "NPWD2881: 0.015925239771604538\n",
      "NPWD2792: 0.015648387372493744\n",
      "NPWD2802: 0.015235788188874722\n",
      "NPWD2852: 0.015189348720014095\n",
      "NPWD2562: 0.015139336697757244\n",
      "NPWD2871: 0.01464100368320942\n",
      "NPWD2691: 0.01459277793765068\n"
     ]
    }
   ],
   "source": [
    "# Sorting and displaying feature importances\n",
    "\n",
    "# importances is a list of tuples: (NAMEofCOLUMN, THISCOLUMN_IMPORTANCE)\n",
    "importances = list(zip(data.columns, model.feature_importances_))\n",
    "\n",
    "# Sort in reverse order for most important first\n",
    "importances.sort(key=lambda x: x[1], reverse=True)\n",
    "\n",
    "for F,I in importances:\n",
    "    print(\"{}: {}\".format(F,I))"
   ]
  },
  {
   "cell_type": "markdown",
   "metadata": {},
   "source": [
    "That's all for this notebook."
   ]
  },
  {
   "cell_type": "markdown",
   "metadata": {},
   "source": [
    "# What's next ?\n",
    "\n",
    "    - Using context as input data and not only other telemetry. With context we can make real prediction\n",
    "      with telemetry over telemetry we do dependence analysis mostly and nowcasting.\n",
    "      We could also come up with an novel behaviour detection\n",
    "    - Cycle each target to analyze dependencies between all available telemetry.\n",
    "      Using the dependency graph as a preselection for building more efficient prediction models.\n",
    "    - Manage a baysian graph where models of confidences are build with quality of model of predictions"
   ]
  },
  {
   "cell_type": "code",
   "execution_count": null,
   "metadata": {},
   "outputs": [],
   "source": []
  }
 ],
 "metadata": {
  "kernelspec": {
   "display_name": "Python 3",
   "language": "python",
   "name": "python3"
  },
  "language_info": {
   "codemirror_mode": {
    "name": "ipython",
    "version": 3
   },
   "file_extension": ".py",
   "mimetype": "text/x-python",
   "name": "python",
   "nbconvert_exporter": "python",
   "pygments_lexer": "ipython3",
   "version": "3.7.1"
  }
 },
 "nbformat": 4,
 "nbformat_minor": 2
}
