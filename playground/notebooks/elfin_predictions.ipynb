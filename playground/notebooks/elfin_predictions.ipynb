{
 "cells": [
  {
   "cell_type": "markdown",
   "metadata": {},
   "source": [
    "# Analyze ELFIN data with xgboost"
   ]
  },
  {
   "cell_type": "code",
   "execution_count": 1,
   "metadata": {
    "ExecuteTime": {
     "end_time": "2018-12-02T17:52:47.829133Z",
     "start_time": "2018-12-02T17:52:47.825598Z"
    }
   },
   "outputs": [],
   "source": [
    "import xgboost as xgb\n",
    "\n",
    "# For the kung fu of data manipulation\n",
    "import pandas as pd\n",
    "\n",
    "# Useful function to split a data set for train/test sets\n",
    "from sklearn.model_selection import train_test_split\n",
    "\n",
    "# this following like is a called a \"magic\": it tells the notebook to display figures inline\n",
    "%matplotlib inline"
   ]
  },
  {
   "cell_type": "code",
   "execution_count": 2,
   "metadata": {
    "ExecuteTime": {
     "end_time": "2018-12-02T17:12:22.607766Z",
     "start_time": "2018-12-02T17:12:22.595571Z"
    }
   },
   "outputs": [],
   "source": [
    "params = {\n",
    "    'learning_rate': 0.1,   # epsilon on slides\n",
    "    'gamma': 0,             # minimum loss reduction to make a split \n",
    "    'max_depth': 10,        # maximum depth of the tree\n",
    "    'n_estimators': 50,     # number of boosted trees to fit\n",
    "    \n",
    "    'base_score': 0.5,      # the initial prediction score of all instances, global bias.\n",
    "    'colsample_bylevel': 1, # subsample ratio of columns for each split, in each level\n",
    "    'colsample_bytree': 1,  # subsample ratio of columns when constructing each tree.\n",
    "    'max_delta_step': 0,    # maximum delta step we allow each tree's weight estimation to be    \n",
    "    'min_child_weight': 1,  # minimum sum of instance weight(hessian) needed in a child.\n",
    "    'missing': None,        # how to represent missing value, defaults to np.nan\n",
    "    'nthread': -1,          # number of parallel threads to run xgboost\n",
    "    'objective': \"reg:linear\", # or 'binary:logistic'  or \n",
    "    'reg_alpha': 0,         # L1 regularization term on weights\n",
    "    'reg_lambda': 1,        # L2 regularization term on weights\n",
    "    'scale_pos_weight': 1,  # balance of positive and negative weights\n",
    "    'seed': 0,              # randomness\n",
    "    'verbosity': 1,         # formerly \"silent\", here 1 stands for only warnings\n",
    "    'subsample': 1,         # subsample ratio of the training instance.\n",
    "    \n",
    "    # I do not really have a GPU on my laptop so I'll wait warming my hands with the CPU :)\n",
    "    'predictor': \"cpu_predictor\", # or 'gpu_predictor'\n",
    "    'tree_method': \"auto\"         # or \"approx\" or \"(gpu_)hist\" or \"(gpu_)exact\"\n",
    "}"
   ]
  },
  {
   "cell_type": "markdown",
   "metadata": {
    "ExecuteTime": {
     "end_time": "2018-11-13T23:17:20.328855Z",
     "start_time": "2018-11-13T23:17:20.322002Z"
    }
   },
   "source": [
    "## Creating model object to be trained"
   ]
  },
  {
   "cell_type": "code",
   "execution_count": 3,
   "metadata": {
    "ExecuteTime": {
     "end_time": "2018-12-02T17:12:23.301772Z",
     "start_time": "2018-12-02T17:12:23.297332Z"
    }
   },
   "outputs": [],
   "source": [
    "# scikit-learn is needed for this form of model\n",
    "model = xgb.XGBClassifier(**params)"
   ]
  },
  {
   "cell_type": "markdown",
   "metadata": {},
   "source": [
    "## Getting data and splitting into train and test sets"
   ]
  },
  {
   "cell_type": "code",
   "execution_count": 4,
   "metadata": {
    "ExecuteTime": {
     "end_time": "2018-12-02T17:12:29.819475Z",
     "start_time": "2018-12-02T17:12:24.719763Z"
    }
   },
   "outputs": [],
   "source": [
    "data = pd.read_pickle('tlm_elfin.pickle')"
   ]
  },
  {
   "cell_type": "code",
   "execution_count": 5,
   "metadata": {
    "ExecuteTime": {
     "end_time": "2018-12-02T17:12:29.843909Z",
     "start_time": "2018-12-02T17:12:29.821137Z"
    }
   },
   "outputs": [
    {
     "data": {
      "text/html": [
       "<div>\n",
       "<style scoped>\n",
       "    .dataframe tbody tr th:only-of-type {\n",
       "        vertical-align: middle;\n",
       "    }\n",
       "\n",
       "    .dataframe tbody tr th {\n",
       "        vertical-align: top;\n",
       "    }\n",
       "\n",
       "    .dataframe thead th {\n",
       "        text-align: right;\n",
       "    }\n",
       "</style>\n",
       "<table border=\"1\" class=\"dataframe\">\n",
       "  <thead>\n",
       "    <tr style=\"text-align: right;\">\n",
       "      <th></th>\n",
       "      <th>tlm_time</th>\n",
       "      <th>tlm_pwr1_bat1_temp</th>\n",
       "      <th>tlm_pwr1_bat2_temp</th>\n",
       "      <th>tlm_bat_mon_1_vol</th>\n",
       "      <th>tlm_bat_mon_2_vol</th>\n",
       "      <th>tlm_bat_mon_1_curr</th>\n",
       "      <th>tlm_bat_mon_2_curr</th>\n",
       "      <th>tlm_bat_mon_1_avg_curr</th>\n",
       "      <th>tlm_bat_mon_2_avg_curr</th>\n",
       "      <th>tlm_bat_mon_1_acc_curr</th>\n",
       "      <th>...</th>\n",
       "      <th>tlm_adc_pb_1_curr</th>\n",
       "      <th>tlm_adc_pb_2_curr</th>\n",
       "      <th>tlm_tmps_1</th>\n",
       "      <th>tlm_tmps_2</th>\n",
       "      <th>tlm_tmps_3</th>\n",
       "      <th>tlm_tmps_4</th>\n",
       "      <th>tlm_acc_curr_bat1_rarc</th>\n",
       "      <th>tlm_acc_curr_bat2_rarc</th>\n",
       "      <th>tlm_acc_curr_bat1_rsrc</th>\n",
       "      <th>tlm_acc_curr_bat2_rsrc</th>\n",
       "    </tr>\n",
       "    <tr>\n",
       "      <th>date</th>\n",
       "      <th></th>\n",
       "      <th></th>\n",
       "      <th></th>\n",
       "      <th></th>\n",
       "      <th></th>\n",
       "      <th></th>\n",
       "      <th></th>\n",
       "      <th></th>\n",
       "      <th></th>\n",
       "      <th></th>\n",
       "      <th></th>\n",
       "      <th></th>\n",
       "      <th></th>\n",
       "      <th></th>\n",
       "      <th></th>\n",
       "      <th></th>\n",
       "      <th></th>\n",
       "      <th></th>\n",
       "      <th></th>\n",
       "      <th></th>\n",
       "      <th></th>\n",
       "    </tr>\n",
       "  </thead>\n",
       "  <tbody>\n",
       "    <tr>\n",
       "      <th>2018-10-22 00:26:07</th>\n",
       "      <td>2018-10-22 00:25:45</td>\n",
       "      <td>18.750</td>\n",
       "      <td>18.375</td>\n",
       "      <td>3.95768</td>\n",
       "      <td>3.84056</td>\n",
       "      <td>-54.231771</td>\n",
       "      <td>-150.260417</td>\n",
       "      <td>-53.190104</td>\n",
       "      <td>-155.729167</td>\n",
       "      <td>398.958335</td>\n",
       "      <td>...</td>\n",
       "      <td>21.994135</td>\n",
       "      <td>83.577713</td>\n",
       "      <td>13.8125</td>\n",
       "      <td>10.9375</td>\n",
       "      <td>10.9375</td>\n",
       "      <td>10.0625</td>\n",
       "      <td>18.0</td>\n",
       "      <td>96.0</td>\n",
       "      <td>18.0</td>\n",
       "      <td>96.0</td>\n",
       "    </tr>\n",
       "    <tr>\n",
       "      <th>2018-10-21 22:31:43</th>\n",
       "      <td>2018-10-21 22:25:56</td>\n",
       "      <td>15.875</td>\n",
       "      <td>15.750</td>\n",
       "      <td>4.00160</td>\n",
       "      <td>3.97720</td>\n",
       "      <td>2.994792</td>\n",
       "      <td>54.296875</td>\n",
       "      <td>-1.171875</td>\n",
       "      <td>51.171875</td>\n",
       "      <td>416.341148</td>\n",
       "      <td>...</td>\n",
       "      <td>0.000000</td>\n",
       "      <td>83.577713</td>\n",
       "      <td>4.6250</td>\n",
       "      <td>9.3125</td>\n",
       "      <td>9.6250</td>\n",
       "      <td>8.6875</td>\n",
       "      <td>19.0</td>\n",
       "      <td>98.0</td>\n",
       "      <td>19.0</td>\n",
       "      <td>98.0</td>\n",
       "    </tr>\n",
       "  </tbody>\n",
       "</table>\n",
       "<p>2 rows × 31 columns</p>\n",
       "</div>"
      ],
      "text/plain": [
       "                               tlm_time  tlm_pwr1_bat1_temp  \\\n",
       "date                                                          \n",
       "2018-10-22 00:26:07 2018-10-22 00:25:45              18.750   \n",
       "2018-10-21 22:31:43 2018-10-21 22:25:56              15.875   \n",
       "\n",
       "                     tlm_pwr1_bat2_temp  tlm_bat_mon_1_vol  tlm_bat_mon_2_vol  \\\n",
       "date                                                                            \n",
       "2018-10-22 00:26:07              18.375            3.95768            3.84056   \n",
       "2018-10-21 22:31:43              15.750            4.00160            3.97720   \n",
       "\n",
       "                     tlm_bat_mon_1_curr  tlm_bat_mon_2_curr  \\\n",
       "date                                                          \n",
       "2018-10-22 00:26:07          -54.231771         -150.260417   \n",
       "2018-10-21 22:31:43            2.994792           54.296875   \n",
       "\n",
       "                     tlm_bat_mon_1_avg_curr  tlm_bat_mon_2_avg_curr  \\\n",
       "date                                                                  \n",
       "2018-10-22 00:26:07              -53.190104             -155.729167   \n",
       "2018-10-21 22:31:43               -1.171875               51.171875   \n",
       "\n",
       "                     tlm_bat_mon_1_acc_curr           ...            \\\n",
       "date                                                  ...             \n",
       "2018-10-22 00:26:07              398.958335           ...             \n",
       "2018-10-21 22:31:43              416.341148           ...             \n",
       "\n",
       "                     tlm_adc_pb_1_curr  tlm_adc_pb_2_curr  tlm_tmps_1  \\\n",
       "date                                                                    \n",
       "2018-10-22 00:26:07          21.994135          83.577713     13.8125   \n",
       "2018-10-21 22:31:43           0.000000          83.577713      4.6250   \n",
       "\n",
       "                     tlm_tmps_2  tlm_tmps_3  tlm_tmps_4  \\\n",
       "date                                                      \n",
       "2018-10-22 00:26:07     10.9375     10.9375     10.0625   \n",
       "2018-10-21 22:31:43      9.3125      9.6250      8.6875   \n",
       "\n",
       "                     tlm_acc_curr_bat1_rarc  tlm_acc_curr_bat2_rarc  \\\n",
       "date                                                                  \n",
       "2018-10-22 00:26:07                    18.0                    96.0   \n",
       "2018-10-21 22:31:43                    19.0                    98.0   \n",
       "\n",
       "                     tlm_acc_curr_bat1_rsrc  tlm_acc_curr_bat2_rsrc  \n",
       "date                                                                 \n",
       "2018-10-22 00:26:07                    18.0                    96.0  \n",
       "2018-10-21 22:31:43                    19.0                    98.0  \n",
       "\n",
       "[2 rows x 31 columns]"
      ]
     },
     "execution_count": 5,
     "metadata": {},
     "output_type": "execute_result"
    }
   ],
   "source": [
    "data.head(2)"
   ]
  },
  {
   "cell_type": "code",
   "execution_count": 6,
   "metadata": {},
   "outputs": [
    {
     "data": {
      "text/html": [
       "<div>\n",
       "<style scoped>\n",
       "    .dataframe tbody tr th:only-of-type {\n",
       "        vertical-align: middle;\n",
       "    }\n",
       "\n",
       "    .dataframe tbody tr th {\n",
       "        vertical-align: top;\n",
       "    }\n",
       "\n",
       "    .dataframe thead th {\n",
       "        text-align: right;\n",
       "    }\n",
       "</style>\n",
       "<table border=\"1\" class=\"dataframe\">\n",
       "  <thead>\n",
       "    <tr style=\"text-align: right;\">\n",
       "      <th></th>\n",
       "      <th>tlm_pwr1_bat1_temp</th>\n",
       "      <th>tlm_pwr1_bat2_temp</th>\n",
       "      <th>tlm_bat_mon_1_vol</th>\n",
       "      <th>tlm_bat_mon_2_vol</th>\n",
       "      <th>tlm_bat_mon_1_curr</th>\n",
       "      <th>tlm_bat_mon_2_curr</th>\n",
       "      <th>tlm_bat_mon_1_avg_curr</th>\n",
       "      <th>tlm_bat_mon_2_avg_curr</th>\n",
       "      <th>tlm_bat_mon_1_acc_curr</th>\n",
       "      <th>tlm_bat_mon_2_acc_curr</th>\n",
       "      <th>...</th>\n",
       "      <th>tlm_adc_pb_1_curr</th>\n",
       "      <th>tlm_adc_pb_2_curr</th>\n",
       "      <th>tlm_tmps_1</th>\n",
       "      <th>tlm_tmps_2</th>\n",
       "      <th>tlm_tmps_3</th>\n",
       "      <th>tlm_tmps_4</th>\n",
       "      <th>tlm_acc_curr_bat1_rarc</th>\n",
       "      <th>tlm_acc_curr_bat2_rarc</th>\n",
       "      <th>tlm_acc_curr_bat1_rsrc</th>\n",
       "      <th>tlm_acc_curr_bat2_rsrc</th>\n",
       "    </tr>\n",
       "    <tr>\n",
       "      <th>date</th>\n",
       "      <th></th>\n",
       "      <th></th>\n",
       "      <th></th>\n",
       "      <th></th>\n",
       "      <th></th>\n",
       "      <th></th>\n",
       "      <th></th>\n",
       "      <th></th>\n",
       "      <th></th>\n",
       "      <th></th>\n",
       "      <th></th>\n",
       "      <th></th>\n",
       "      <th></th>\n",
       "      <th></th>\n",
       "      <th></th>\n",
       "      <th></th>\n",
       "      <th></th>\n",
       "      <th></th>\n",
       "      <th></th>\n",
       "      <th></th>\n",
       "      <th></th>\n",
       "    </tr>\n",
       "  </thead>\n",
       "  <tbody>\n",
       "    <tr>\n",
       "      <th>2018-10-22 00:26:07</th>\n",
       "      <td>18.750</td>\n",
       "      <td>18.375</td>\n",
       "      <td>3.95768</td>\n",
       "      <td>3.84056</td>\n",
       "      <td>-54.231771</td>\n",
       "      <td>-150.260417</td>\n",
       "      <td>-53.190104</td>\n",
       "      <td>-155.729167</td>\n",
       "      <td>398.958335</td>\n",
       "      <td>446.67969</td>\n",
       "      <td>...</td>\n",
       "      <td>21.994135</td>\n",
       "      <td>83.577713</td>\n",
       "      <td>13.8125</td>\n",
       "      <td>10.9375</td>\n",
       "      <td>10.9375</td>\n",
       "      <td>10.0625</td>\n",
       "      <td>18.0</td>\n",
       "      <td>96.0</td>\n",
       "      <td>18.0</td>\n",
       "      <td>96.0</td>\n",
       "    </tr>\n",
       "    <tr>\n",
       "      <th>2018-10-21 22:31:43</th>\n",
       "      <td>15.875</td>\n",
       "      <td>15.750</td>\n",
       "      <td>4.00160</td>\n",
       "      <td>3.97720</td>\n",
       "      <td>2.994792</td>\n",
       "      <td>54.296875</td>\n",
       "      <td>-1.171875</td>\n",
       "      <td>51.171875</td>\n",
       "      <td>416.341148</td>\n",
       "      <td>452.14844</td>\n",
       "      <td>...</td>\n",
       "      <td>0.000000</td>\n",
       "      <td>83.577713</td>\n",
       "      <td>4.6250</td>\n",
       "      <td>9.3125</td>\n",
       "      <td>9.6250</td>\n",
       "      <td>8.6875</td>\n",
       "      <td>19.0</td>\n",
       "      <td>98.0</td>\n",
       "      <td>19.0</td>\n",
       "      <td>98.0</td>\n",
       "    </tr>\n",
       "  </tbody>\n",
       "</table>\n",
       "<p>2 rows × 30 columns</p>\n",
       "</div>"
      ],
      "text/plain": [
       "                     tlm_pwr1_bat1_temp  tlm_pwr1_bat2_temp  \\\n",
       "date                                                          \n",
       "2018-10-22 00:26:07              18.750              18.375   \n",
       "2018-10-21 22:31:43              15.875              15.750   \n",
       "\n",
       "                     tlm_bat_mon_1_vol  tlm_bat_mon_2_vol  tlm_bat_mon_1_curr  \\\n",
       "date                                                                            \n",
       "2018-10-22 00:26:07            3.95768            3.84056          -54.231771   \n",
       "2018-10-21 22:31:43            4.00160            3.97720            2.994792   \n",
       "\n",
       "                     tlm_bat_mon_2_curr  tlm_bat_mon_1_avg_curr  \\\n",
       "date                                                              \n",
       "2018-10-22 00:26:07         -150.260417              -53.190104   \n",
       "2018-10-21 22:31:43           54.296875               -1.171875   \n",
       "\n",
       "                     tlm_bat_mon_2_avg_curr  tlm_bat_mon_1_acc_curr  \\\n",
       "date                                                                  \n",
       "2018-10-22 00:26:07             -155.729167              398.958335   \n",
       "2018-10-21 22:31:43               51.171875              416.341148   \n",
       "\n",
       "                     tlm_bat_mon_2_acc_curr           ...            \\\n",
       "date                                                  ...             \n",
       "2018-10-22 00:26:07               446.67969           ...             \n",
       "2018-10-21 22:31:43               452.14844           ...             \n",
       "\n",
       "                     tlm_adc_pb_1_curr  tlm_adc_pb_2_curr  tlm_tmps_1  \\\n",
       "date                                                                    \n",
       "2018-10-22 00:26:07          21.994135          83.577713     13.8125   \n",
       "2018-10-21 22:31:43           0.000000          83.577713      4.6250   \n",
       "\n",
       "                     tlm_tmps_2  tlm_tmps_3  tlm_tmps_4  \\\n",
       "date                                                      \n",
       "2018-10-22 00:26:07     10.9375     10.9375     10.0625   \n",
       "2018-10-21 22:31:43      9.3125      9.6250      8.6875   \n",
       "\n",
       "                     tlm_acc_curr_bat1_rarc  tlm_acc_curr_bat2_rarc  \\\n",
       "date                                                                  \n",
       "2018-10-22 00:26:07                    18.0                    96.0   \n",
       "2018-10-21 22:31:43                    19.0                    98.0   \n",
       "\n",
       "                     tlm_acc_curr_bat1_rsrc  tlm_acc_curr_bat2_rsrc  \n",
       "date                                                                 \n",
       "2018-10-22 00:26:07                    18.0                    96.0  \n",
       "2018-10-21 22:31:43                    19.0                    98.0  \n",
       "\n",
       "[2 rows x 30 columns]"
      ]
     },
     "execution_count": 6,
     "metadata": {},
     "output_type": "execute_result"
    }
   ],
   "source": [
    "# Drop the telemetry timestamp because it can be fit in the model\n",
    "data = data.drop('tlm_time', axis=1)\n",
    "data.head(2)"
   ]
  },
  {
   "cell_type": "markdown",
   "metadata": {
    "ExecuteTime": {
     "end_time": "2018-12-02T17:18:24.890507Z",
     "start_time": "2018-12-02T17:18:24.888147Z"
    }
   },
   "source": [
    "## Training the XGBoost model with Mars Express Telemetry to predict tlm_pwr1_bat1_temp"
   ]
  },
  {
   "cell_type": "code",
   "execution_count": 7,
   "metadata": {
    "ExecuteTime": {
     "end_time": "2018-12-02T17:46:46.829995Z",
     "start_time": "2018-12-02T17:46:44.108282Z"
    }
   },
   "outputs": [
    {
     "data": {
      "text/plain": [
       "<matplotlib.axes._subplots.AxesSubplot at 0x7f0058960940>"
      ]
     },
     "execution_count": 7,
     "metadata": {},
     "output_type": "execute_result"
    },
    {
     "data": {
      "image/png": "[encoded data removed]",
      "text/plain": [
       "<Figure size 1296x720 with 1 Axes>"
      ]
     },
     "metadata": {},
     "output_type": "display_data"
    }
   ],
   "source": [
    "data.tlm_pwr1_bat1_temp.plot(figsize=(18,10))"
   ]
  },
  {
   "cell_type": "code",
   "execution_count": 8,
   "metadata": {
    "ExecuteTime": {
     "end_time": "2018-12-02T17:49:32.009571Z",
     "start_time": "2018-12-02T17:49:31.890500Z"
    }
   },
   "outputs": [],
   "source": [
    "# X represents all the features/predictors used to predict tlm_pwr1_bat1_temp\n",
    "X = data.drop(\"tlm_pwr1_bat1_temp\", axis=1)\n",
    "Y = data.tlm_pwr1_bat1_temp"
   ]
  },
  {
   "cell_type": "markdown",
   "metadata": {
    "ExecuteTime": {
     "end_time": "2018-12-02T17:49:44.387213Z",
     "start_time": "2018-12-02T17:49:44.378008Z"
    }
   },
   "source": [
    "### Splitting the dataset into a train set "
   ]
  },
  {
   "cell_type": "code",
   "execution_count": 9,
   "metadata": {
    "ExecuteTime": {
     "end_time": "2018-12-02T17:55:43.223803Z",
     "start_time": "2018-12-02T17:55:42.767530Z"
    }
   },
   "outputs": [],
   "source": [
    "X_train, x_test, Y_train, y_test = train_test_split(X, Y, test_size=0.33)"
   ]
  },
  {
   "cell_type": "markdown",
   "metadata": {},
   "source": [
    "### Fitting the model"
   ]
  },
  {
   "cell_type": "code",
   "execution_count": 10,
   "metadata": {
    "ExecuteTime": {
     "end_time": "2018-12-02T18:16:47.988465Z",
     "start_time": "2018-12-02T17:55:44.200261Z"
    }
   },
   "outputs": [
    {
     "data": {
      "text/plain": [
       "XGBClassifier(base_score=0.5, booster='gbtree', colsample_bylevel=1,\n",
       "       colsample_bytree=1, gamma=0, learning_rate=0.1, max_delta_step=0,\n",
       "       max_depth=10, min_child_weight=1, missing=None, n_estimators=50,\n",
       "       n_jobs=1, nthread=-1, objective='multi:softprob',\n",
       "       predictor='cpu_predictor', random_state=0, reg_alpha=0,\n",
       "       reg_lambda=1, scale_pos_weight=1, seed=0, silent=True, subsample=1,\n",
       "       tree_method='auto')"
      ]
     },
     "execution_count": 10,
     "metadata": {},
     "output_type": "execute_result"
    }
   ],
   "source": [
    "model.fit(X_train, Y_train)"
   ]
  },
  {
   "cell_type": "code",
   "execution_count": 11,
   "metadata": {
    "ExecuteTime": {
     "end_time": "2018-12-02T18:22:22.864145Z",
     "start_time": "2018-12-02T18:22:22.860444Z"
    }
   },
   "outputs": [
    {
     "data": {
      "text/plain": [
       "(133, 29)"
      ]
     },
     "execution_count": 11,
     "metadata": {},
     "output_type": "execute_result"
    }
   ],
   "source": [
    "# It took about 21minutes, 50 trees and about 6GB of RAM to fit the model.\n",
    "X_train.shape"
   ]
  },
  {
   "cell_type": "markdown",
   "metadata": {
    "ExecuteTime": {
     "end_time": "2018-12-02T21:45:25.157302Z",
     "start_time": "2018-12-02T21:45:25.153458Z"
    }
   },
   "source": [
    "### Using the trained model to make a prediction on the test set"
   ]
  },
  {
   "cell_type": "code",
   "execution_count": 12,
   "metadata": {
    "ExecuteTime": {
     "end_time": "2018-12-02T21:46:29.246093Z",
     "start_time": "2018-12-02T21:46:04.745413Z"
    }
   },
   "outputs": [
    {
     "name": "stderr",
     "output_type": "stream",
     "text": [
      "/home/xabi/.pyenv/versions/anaconda3-5.2.0/lib/python3.6/site-packages/sklearn/preprocessing/label.py:151: DeprecationWarning: The truth value of an empty array is ambiguous. Returning False, but in future this will result in an error. Use `array.size > 0` to check that an array is not empty.\n",
      "  if diff:\n"
     ]
    }
   ],
   "source": [
    "from sklearn.metrics import mean_squared_error\n",
    "y_test_prediction = model.predict(x_test)"
   ]
  },
  {
   "cell_type": "code",
   "execution_count": 13,
   "metadata": {
    "ExecuteTime": {
     "end_time": "2018-12-02T21:47:08.200627Z",
     "start_time": "2018-12-02T21:47:08.185103Z"
    }
   },
   "outputs": [
    {
     "name": "stdout",
     "output_type": "stream",
     "text": [
      "1.2724905303030303\n"
     ]
    }
   ],
   "source": [
    "err = mean_squared_error(y_test, y_test_prediction)\n",
    "print(err)"
   ]
  },
  {
   "cell_type": "markdown",
   "metadata": {},
   "source": [
    "## Features importances"
   ]
  },
  {
   "cell_type": "code",
   "execution_count": 14,
   "metadata": {
    "ExecuteTime": {
     "end_time": "2018-12-02T22:13:11.569057Z",
     "start_time": "2018-12-02T22:13:09.945530Z"
    }
   },
   "outputs": [
    {
     "name": "stdout",
     "output_type": "stream",
     "text": [
      "tlm_pwr1_bat1_temp: 0.0934419184923172\n",
      "tlm_adc_bat_2_vol: 0.08529789745807648\n",
      "tlm_bat_mon_1_curr: 0.07586798071861267\n",
      "tlm_bat_mon_2_avg_curr: 0.06986712664365768\n",
      "tlm_adc_sa_34_vol: 0.06515216827392578\n",
      "tlm_adc_pb_1_curr: 0.05872267484664917\n",
      "tlm_adc_pb_2_curr: 0.05872267484664917\n",
      "tlm_bat_mon_1_acc_curr: 0.057865411043167114\n",
      "tlm_adc_sa_12_vol: 0.05400771647691727\n",
      "tlm_bat_mon_2_curr: 0.0514359176158905\n",
      "tlm_bat_mon_2_vol: 0.03943420574069023\n",
      "tlm_adc_reg_sa_2_vol: 0.039005573838949203\n",
      "tlm_adc_reg_sa_1_vol: 0.036862410604953766\n",
      "tlm_tmps_1: 0.03471924737095833\n",
      "tlm_tmps_3: 0.033433347940444946\n",
      "tlm_pwr1_bat2_temp: 0.028289755806326866\n",
      "tlm_bat_mon_1_vol: 0.02443206124007702\n",
      "tlm_bat_mon_1_avg_curr: 0.02400342933833599\n",
      "tlm_tmps_2: 0.023146163672208786\n",
      "tlm_bus_1_vol: 0.01928846910595894\n",
      "tlm_adc_bat_1_vol: 0.016716673970222473\n",
      "tlm_adc_sa_56_vol: 0.005572224501520395\n",
      "tlm_adc_sa_cc_curr: 0.003000428667291999\n",
      "tlm_acc_curr_bat1_rarc: 0.0017145306337624788\n",
      "tlm_bat_mon_2_acc_curr: 0.0\n",
      "tlm_adc_reg_sa_3_vol: 0.0\n",
      "tlm_tmps_4: 0.0\n",
      "tlm_acc_curr_bat2_rarc: 0.0\n",
      "tlm_acc_curr_bat1_rsrc: 0.0\n"
     ]
    }
   ],
   "source": [
    "# Sorting and displaying feature importances\n",
    "\n",
    "# importances is a list of tuples: (NAMEofCOLUMN, THISCOLUMN_IMPORTANCE)\n",
    "importances = list(zip(data.columns, model.feature_importances_))\n",
    "\n",
    "# Sort in reverse order for most important first\n",
    "importances.sort(key=lambda x: x[1], reverse=True)\n",
    "\n",
    "for F,I in importances:\n",
    "    print(\"{}: {}\".format(F,I))"
   ]
  }
 ],
 "metadata": {
  "kernelspec": {
   "display_name": "Python 3",
   "language": "python",
   "name": "python3"
  },
  "language_info": {
   "codemirror_mode": {
    "name": "ipython",
    "version": 3
   },
   "file_extension": ".py",
   "mimetype": "text/x-python",
   "name": "python",
   "nbconvert_exporter": "python",
   "pygments_lexer": "ipython3",
   "version": "3.6.5"
  }
 },
 "nbformat": 4,
 "nbformat_minor": 2
}
